{
 "cells": [
  {
   "cell_type": "code",
   "execution_count": 1,
   "metadata": {
    "collapsed": true
   },
   "outputs": [
    {
     "name": "stdout",
     "output_type": "stream",
     "text": [
      "7faa3494c2cd14b3eccb512af9f783ae\n"
     ]
    },
    {
     "name": "stdout",
     "output_type": "stream",
     "text": [
      "1479190078 XNQSMB 1330428213\nstarting to set login_data\n"
     ]
    },
    {
     "name": "stdout",
     "output_type": "stream",
     "text": [
      "Set-Cookie3: ALC=\"ac%3D2%26bt%3D1479190079%26cv%3D5.0%26et%3D1510726079%26scf%3D%26uid%3D6027133031%26vf%3D0%26vs%3D0%26vt%3D0%26es%3De9afbf1fd755b7bb450cabfb629236bf\"; path=\"/\"; domain=\".login.sina.com.cn\"; path_spec; expires=\"2017-11-15 06:07:59Z\"; httponly=None; version=0\nSet-Cookie3: LT=1479190079; path=\"/\"; domain=\".login.sina.com.cn\"; path_spec; discard; version=0\nSet-Cookie3: tgc=\"TGT-NjAyNzEzMzAzMQ==-1479190078-gz-86A873F0DD3746484DFED1FECEF8DAD0\"; path=\"/\"; domain=\".login.sina.com.cn\"; path_spec; discard; Httponly=None; version=0\nSet-Cookie3: SRF=1479190079; path=\"/\"; domain=\".passport.weibo.com\"; path_spec; domain_dot; expires=\"2026-11-13 06:07:59Z\"; version=0\nSet-Cookie3: SRT=\"D.QqHBJZ4oOGMTW!MbPGYGS4HLibSP4OYuJrsuMDHHNEYdPsWhA-upMERt4EPKRcsrAcPJ4cHNTsVtJFHgJ4oZNdYZdc9bJri8WEHwT!WfUPE4A-oBI8t7*B.vAflW-P9Rc0lR-ykjDvnJqiQVbiRVPBtS!r3JZPQVqbgVdWiMZ4siOzu4DbmKPWfNb99S3H1N!SMS!9!4myOP49HU4uNi49ndDPIJcYPSrnlMcyoi-P6OQBbJF43SOvpJcM1OFyHJEbJ5mkiODmkS4noIQEJ5mjkOmzkI4noIOHJ5mjkOmH6U!oCU-uJ5mjkOmH6J!oCUqHJ5mklOmH6I4oCUpsJ5mjkOmzkA!noNqPJ5mjlOmzlI4noNpur\"; path=\"/\"; domain=\".passport.weibo.com\"; path_spec; domain_dot; expires=\"2026-11-13 06:07:59Z\"; httponly=None; version=0\nSet-Cookie3: ALF=1510726079; path=\"/\"; domain=\".sina.com.cn\"; path_spec; domain_dot; expires=\"2017-11-15 06:07:59Z\"; version=0\nSet-Cookie3: SCF=\"AnJf5-TqiDylcvTznc2F3xBek53DgzQbyJCfdQsru7a8KxUaeUbUR9OHAnb-oGvLU9h0TBXRjnAXHFXFpoPCyZw.\"; path=\"/\"; domain=\".sina.com.cn\"; path_spec; domain_dot; expires=\"2026-11-13 06:07:58Z\"; httponly=None; version=0\nSet-Cookie3: SUB=\"_2A251LtZuDeTxGeBO6VUQ8y3MyD2IHXVWWkCmrDV_PUNbm9BeLVXYkW9dbgVfAGUAVFfpu0oSCvcje9w7sw..\"; path=\"/\"; domain=\".sina.com.cn\"; path_spec; domain_dot; discard; HttpOnly=None; version=0\nSet-Cookie3: SUBP=\"0033WrSXqPxfM725Ws9jqgMF55529P9D9WhJZigrJJFQfJdPOSUJImNR5NHD95QcehzNeKe0ehepWs4Dqcj6i--NiKLhiKLsi--fi-88iKLWi--fi-zRi-zRi--fi-zpi-zpi--Ri-zfi-zfi--fi-82iK.7i--4i-i8iK.4\"; path=\"/\"; domain=\".sina.com.cn\"; path_spec; domain_dot; discard; version=0\nSet-Cookie3: sso_info=\"v02m6alo5qztKWRk5yljpSMpY6UmKWRk5SlkJSUpY6UhKWRk5SlkKOgpZCjoKWRk5SlkKOEpZCjhKWRk6ClkKOUpZCjlKWRk5SlkJSQpY6TgKWRk6SlkKSUpY6TpKadlqWkj5OYsIyjnLGMs4ywjLOEwA==\"; path=\"/\"; domain=\".sina.com.cn\"; path_spec; domain_dot; expires=\"2017-11-15 06:07:59Z\"; version=0\nSet-Cookie3: ALF=1510726079; path=\"/\"; domain=\".weibo.com\"; path_spec; domain_dot; expires=\"2017-11-15 06:07:59Z\"; version=0\nSet-Cookie3: SCF=\"AnJf5-TqiDylcvTznc2F3xBek53DgzQbyJCfdQsru7a8mpy65sxV1AZWjKyIsnJxlgVEYhgJW0wVuFoCPRstXmU.\"; path=\"/\"; domain=\".weibo.com\"; path_spec; domain_dot; expires=\"2026-11-13 06:07:59Z\"; httponly=None; version=0\nSet-Cookie3: SSOLoginState=1479190079; path=\"/\"; domain=\".weibo.com\"; path_spec; domain_dot; discard; version=0\nSet-Cookie3: SUB=\"_2A251LtZvDeTxGeBO6VUQ8y3MyD2IHXVWWkCnrDV8PUNbmtBeLRbRkW80bj1LcIhcZje3CbtRzjGhmQTClA..\"; path=\"/\"; domain=\".weibo.com\"; path_spec; domain_dot; discard; HttpOnly=None; version=0\nSet-Cookie3: SUBP=\"0033WrSXqPxfM725Ws9jqgMF55529P9D9WhJZigrJJFQfJdPOSUJImNR5JpX5K2hUgL.Foq7eoMpe0e7e022dJLoI0YLxKML1-eL1-qLxK-LB--L1-2LxK-LBonLBonLxK-LBo2LBo2LxKnLBo-LBo-LxK-LB-BL1K5LxK.LB.-L1K.t\"; path=\"/\"; domain=\".weibo.com\"; path_spec; domain_dot; expires=\"2017-11-15 06:07:59Z\"; version=0\nSet-Cookie3: SUHB=0qjkbm7Um5ZQp5; path=\"/\"; domain=\".weibo.com\"; path_spec; domain_dot; expires=\"2017-11-15 06:07:59Z\"; version=0\nSet-Cookie3: YF-Ugrow-G0=5b31332af1361e117ff29bb32e4d8439; path=\"/\"; domain=\"weibo.com\"; path_spec; discard; version=0\n\n"
     ]
    }
   ],
   "source": [
    "from cje import http_request\n",
    "\n",
    "request = http_request.HttpRequest()"
   ]
  },
  {
   "cell_type": "code",
   "execution_count": 2,
   "metadata": {},
   "outputs": [],
   "source": [
    "uid_list = [\"RoseannePark\", \"3977696020\", \"3287213664\"]\n",
    "html = request.get_html(\"http://weibo.com/\" + uid_list[0])\n",
    "# html = html.replace('\\r', '').replace('\\n', '').replace('\\t', '')"
   ]
  },
  {
   "cell_type": "code",
   "execution_count": 3,
   "metadata": {},
   "outputs": [
    {
     "data": {
      "text/plain": [
       "u'<div class=\"WB_cardwrap S_bg2\" ><div class=\"PCD_counter\"><div class=\"WB_innerwrap\"><table class=\"tb_counter\" cellpadding=\"0\" cellspacing=\"0\"><tbody><tr><td class=\"S_line1\"><a bpfilter=\"page_frame\"  class=\"t_link S_txt1\" href=\"http://weibo.com/p/1005055609392620/follow?from=page_100505&wvr=6&mod=headfollow#place\" ><strong class=\"W_f18\">34</strong><span class=\"S_txt2\">\\u5173\\u6ce8</span></a></td><td class=\"S_line1\"><a bpfilter=\"page_frame\"  class=\"t_link S_txt1\" href=\"http://weibo.com/p/1005055609392620/follow?relate=fans&from=100505&wvr=6&mod=headfans&current=fans#place\" ><strong class=\"W_f18\">9089</strong><span class=\"S_txt2\">\\u7c89\\u4e1d</span></a></td><td class=\"S_line1\"><a bpfilter=\"page_frame\"  class=\"t_link S_txt1\" href=\"http://weibo.com/p/1005055609392620/home?from=page_100505_profile&wvr=6&mod=data#place\" ><strong class=\"W_f18\">1314</strong><span class=\"S_txt2\">\\u5fae\\u535a</span></a></td></tr></tbody></table></div></div></div>'"
      ]
     },
     "execution_count": 3,
     "metadata": {},
     "output_type": "execute_result"
    }
   ],
   "source": [
    "import re\n",
    "import json\n",
    "\n",
    "scripts = re.findall(\"<script>FM.view\\((.+?)\\)</script>\", html)\n",
    "for script in scripts:\n",
    "    script_json = json.loads(script)\n",
    "    if script_json['domid'] == 'Pl_Core_T8CustomTriColumn__3':\n",
    "        html_doc = script_json['html']\n",
    "html_doc.replace('\\r', '').replace('\\n', '').replace('\\t', '')"
   ]
  },
  {
   "cell_type": "code",
   "execution_count": 64,
   "metadata": {},
   "outputs": [],
   "source": [
    "from __future__ import print_function\n",
    "import re\n",
    "import json\n",
    "from collections import defaultdict\n",
    "\n",
    "from lxml import etree\n",
    "from bs4 import BeautifulSoup\n",
    "\n",
    "from .http_request import HttpRequest\n",
    "\n",
    "\n",
    "class AutoCrawler(object):\n",
    "    \"\"\"\n",
    "    自动爬取器，从xml rule中读取任务执行\n",
    "    \"\"\"\n",
    "\n",
    "    def __init__(self, http_request):\n",
    "        if http_request is None:\n",
    "            self.http_request = HttpRequest()\n",
    "        else:\n",
    "            self.http_request = http_request\n",
    "\n",
    "    def crawl(self, url, rule=None):\n",
    "        \"\"\"\n",
    "        爬取操作\n",
    "        :param url: 页面url\n",
    "        :param rule: 页面解析rule的定义XML文档\n",
    "        :type rule: string\n",
    "        :return: 提取对象\n",
    "        :rtype: dict\n",
    "        \"\"\"\n",
    "        if rule is None:\n",
    "            print(\"rule must be set\")\n",
    "        html = self.http_request.get_html(url)\n",
    "        return self.extract(html, rule)\n",
    "\n",
    "    def extract(self, html, rule, data):\n",
    "        \"\"\"\n",
    "        根据rule指定的抓取规则，从页面内容中提取所需的对象\n",
    "        :param html: 原始内容\n",
    "        :param rule: 抓取规则\n",
    "        :type rule: string\n",
    "        :return: 提取对象\n",
    "        :rtype: dict\n",
    "        \"\"\"\n",
    "        doc = html\n",
    "        root = etree.XML(rule)\n",
    "        return self._extract(doc, root, data=data)\n",
    "\n",
    "    def _extract(self, doc, rule, data=None):\n",
    "        if not data:\n",
    "            data = defaultdict()\n",
    "        doc_data = self._this_extract(doc, rule)\n",
    "        doc_data = list(doc_data)\n",
    "        doc_data = doc_data if doc_data else [(doc, data)]\n",
    "        for this_doc, this_data in doc_data:\n",
    "            data = dict(data, **this_data)\n",
    "            # 获取附件节点的数据合并\n",
    "            attachments = [child for child in rule if child.get('nodetype') == 'attach']\n",
    "            for attachment in attachments:\n",
    "                attachment_doc, attachment_data = self._attachment_extract(this_doc, attachment)\n",
    "                data = dict(data, **attachment_data)\n",
    "            # 如果子节点全是叶子，直接返回\n",
    "            leafs = [child for child in rule if child.get('nodetype') == 'leaf']\n",
    "            if leafs:\n",
    "                for leaf in leafs:\n",
    "                    for leaf_doc, leaf_data in self._this_extract(this_doc, leaf):\n",
    "                        data = dict(data, **leaf_data)\n",
    "                        # print(\"leaf data : %s \" % data)\n",
    "                yield None, None, data\n",
    "            # 沿主要节点向下探索\n",
    "            mains = [child for child in rule if child.get('nodetype') == 'main']\n",
    "            for main in mains:\n",
    "                for doc, rule, data in self._extract(this_doc, main, data=data):\n",
    "                    yield doc, rule, data\n",
    "\n",
    "    def _attachment_extract(self, doc, rule):\n",
    "        \"\"\"\n",
    "        自下而上的收集附件节点数据至顶层节点\n",
    "        :param doc: 文档\n",
    "        :param rule: 解析规则，是一个etree结点\n",
    "        :return: 数据\n",
    "        \"\"\"\n",
    "        data = defaultdict()\n",
    "        doc_data = self._this_extract(doc, rule)\n",
    "        for this_doc, this_data in doc_data:\n",
    "            data = dict(data, **this_data)\n",
    "            for child in rule:\n",
    "                child_doc, child_data = self._attachment_extract(this_doc, child)\n",
    "                data = dict(data, **child_data)\n",
    "        return None, data\n",
    "\n",
    "    def _this_extract(self, doc, root):\n",
    "        data = defaultdict()\n",
    "        print(\"==%s\" % root)\n",
    "        if root.tag != 'parse':\n",
    "            return\n",
    "        if root.attrib['type'] == 'json':\n",
    "            jsonpath = root.attrib['jsonpath']\n",
    "            doc_json = json.loads(doc.strip())\n",
    "            # TODO 目前只有1级，TODO多级的jsonpath\n",
    "            if root.get('name'):\n",
    "                data = dict(data, **{root.get('name'): doc_json.get(jsonpath)})\n",
    "            yield doc_json.get(jsonpath), data\n",
    "        if root.attrib['type'] == 're':\n",
    "            from xml.sax.saxutils import unescape\n",
    "            restr = unescape(root.attrib['restr'])\n",
    "            print(\"re : \" + restr)\n",
    "            for item in re.findall(restr, doc):\n",
    "                # print(\"re result:\" + str(item))\n",
    "                if root.get('name'):\n",
    "                    data = dict(data, **{root.get('name'): \"ok\"})\n",
    "                if root.attrib['filter']:\n",
    "                    doc_json = json.loads(item.replace('\\n', '').strip())\n",
    "                    key, value = root.attrib['filter'].split('=')\n",
    "                    if value in doc_json.get(key):\n",
    "                        print(\"json filter: \" + root.attrib['filter'])\n",
    "                        yield item.replace('\\n', '').strip(), data\n",
    "                    else:\n",
    "                        continue\n",
    "                else:\n",
    "                    yield item.replace('\\n', '').strip(), data\n",
    "        if root.attrib['type'] == 'soup':\n",
    "            print(\"soup\")\n",
    "            soup = BeautifulSoup(doc, 'lxml')\n",
    "            cssselector = root.attrib['cssselector']\n",
    "            # print(soup.select(cssselector))\n",
    "            for sub_soup in soup.select(cssselector):\n",
    "                if root.get('name'):\n",
    "                    if root.get('value'):\n",
    "                        data = dict(data, **{root.get('name'): sub_soup.get(root.get('value'))})\n",
    "                    elif root.get('defaultvalue'):\n",
    "                        data = dict(data, **{root.get('name'): root.get('defaultvalue')})\n",
    "                    else:\n",
    "                        data = dict(data, **{root.get('name'): sub_soup.string})\n",
    "                yield sub_soup.prettify(), data\n",
    "\n",
    "    def urls(self, url_template=\"http://www.baidu.com\", **kwargs):\n",
    "        # TODO 2 or 3 list\n",
    "        # TODO 使用pop强化kwargs的限定\n",
    "        \"\"\"\n",
    "        从url模板获取urls\n",
    "        :param url_template: url模板\n",
    "        :param kwargs: url定义的\n",
    "        \"\"\"\n",
    "        for _, list_item in self._get_list_arg(kwargs):\n",
    "            sub_kwargs = dict(kwargs)\n",
    "            sub_kwargs['page'] = list_item\n",
    "            yield url_template.format(**sub_kwargs)\n",
    "\n",
    "    @staticmethod\n",
    "    def _get_list_arg(kwargs):\n",
    "        for key, value in kwargs.items():\n",
    "            if type(value) is list:\n",
    "                return key, value"
   ]
  },
  {
   "cell_type": "code",
   "execution_count": 65,
   "metadata": {},
   "outputs": [
    {
     "name": "stdout",
     "output_type": "stream",
     "text": [
      "==<Element root at 0x6e41748>\n==<Element parse at 0x6e41388>\nre : <script>FM.view\\((.+?)\\)</script>\njson filter: domid=Pl_Core_T8CustomTriColumn__3\n==<Element parse at 0x6eed648>\n==<Element parse at 0x6eed3c8>\nsoup\n==<Element parse at 0x7c95308>\nsoup\n==<Element parse at 0x6e41c08>\nsoup\n==<Element parse at 0x6e41988>\nre : <script>FM.view\\((.+?)\\)</script>\njson filter: domid=Pl_Official_Headerv6__1\n==<Element parse at 0x6eed648>\n==<Element parse at 0x7c95548>\nsoup\n==<Element parse at 0x6eed788>\nsoup\n==<Element parse at 0x8431c08>\nsoup\n==<Element parse at 0x63f9dc8>\nsoup\n==<Element parse at 0x6eed648>\nre : <script>FM.view\\((.+?)\\)</script>\njson filter: domid=Pl_Official_MyProfileFeed\n==<Element parse at 0x63f8708>\n==<Element parse at 0x7e13608>\nsoup\n==<Element parse at 0x8835ec8>\nsoup\n==<Element parse at 0x8835488>\nsoup\n==<Element parse at 0x88358c8>\nsoup\n==<Element parse at 0x8835d48>\nsoup\n==<Element parse at 0x8835608>\nsoup\n==<Element parse at 0x8839a48>\nsoup\n==<Element parse at 0x8839948>\nsoup\n==<Element parse at 0x8835ec8>\nsoup\n==<Element parse at 0x8835488>\nsoup\n==<Element parse at 0x88358c8>\nsoup\n==<Element parse at 0x8835d48>\nsoup\n==<Element parse at 0x8835608>\nsoup\n==<Element parse at 0x8839a48>\nsoup\n==<Element parse at 0x8839948>\nsoup\n==<Element parse at 0x8835ec8>\nsoup\n==<Element parse at 0x8835488>\nsoup\n==<Element parse at 0x88358c8>\nsoup\n==<Element parse at 0x8835d48>\nsoup\n"
     ]
    },
    {
     "name": "stdout",
     "output_type": "stream",
     "text": [
      "==<Element parse at 0x8835608>\nsoup\n==<Element parse at 0x8839a48>\nsoup\n==<Element parse at 0x8839948>\nsoup\n==<Element parse at 0x8835ec8>\nsoup\n==<Element parse at 0x8835488>\nsoup\n==<Element parse at 0x88358c8>\nsoup\n==<Element parse at 0x8835d48>\nsoup\n==<Element parse at 0x8835608>\nsoup\n==<Element parse at 0x8839a48>\nsoup\n==<Element parse at 0x8839948>\nsoup\n==<Element parse at 0x8835ec8>\nsoup\n==<Element parse at 0x8835488>\nsoup\n==<Element parse at 0x88358c8>\nsoup\n==<Element parse at 0x8835d48>\nsoup\n==<Element parse at 0x8835608>\nsoup\n==<Element parse at 0x8839a48>\nsoup\n==<Element parse at 0x8839948>\nsoup\n==<Element parse at 0x8835ec8>\nsoup\n==<Element parse at 0x8835488>\nsoup\n==<Element parse at 0x88358c8>\nsoup\n==<Element parse at 0x8835d48>\nsoup\n==<Element parse at 0x8835608>\nsoup\n==<Element parse at 0x8839a48>\nsoup\n==<Element parse at 0x8839948>\nsoup\n==<Element parse at 0x8835ec8>\nsoup\n==<Element parse at 0x8835488>\nsoup\n==<Element parse at 0x88358c8>\nsoup\n==<Element parse at 0x8835d48>\nsoup\n==<Element parse at 0x8835608>\nsoup\n==<Element parse at 0x8839a48>\nsoup\n==<Element parse at 0x8839948>\nsoup\n==<Element parse at 0x8835ec8>\nsoup\n==<Element parse at 0x8835488>\nsoup\n==<Element parse at 0x88358c8>\nsoup\n==<Element parse at 0x8835d48>\nsoup\n==<Element parse at 0x8835608>\nsoup\n==<Element parse at 0x8839a48>\nsoup\n==<Element parse at 0x8839948>\nsoup\n==<Element parse at 0x8835ec8>\nsoup\n==<Element parse at 0x8835488>\nsoup\n==<Element parse at 0x88358c8>\nsoup\n==<Element parse at 0x8835d48>\nsoup\n==<Element parse at 0x8835608>\nsoup\n==<Element parse at 0x8839a48>\nsoup\n==<Element parse at 0x8839948>\nsoup\n==<Element parse at 0x8835ec8>\nsoup\n"
     ]
    },
    {
     "name": "stdout",
     "output_type": "stream",
     "text": [
      "==<Element parse at 0x8835488>\nsoup\n==<Element parse at 0x88358c8>\nsoup\n==<Element parse at 0x8835d48>\nsoup\n==<Element parse at 0x8835608>\nsoup\n==<Element parse at 0x8839a48>\nsoup\n==<Element parse at 0x8839948>\nsoup\n==<Element parse at 0x8835ec8>\nsoup\n==<Element parse at 0x8835488>\nsoup\n==<Element parse at 0x88358c8>\nsoup\n==<Element parse at 0x8835d48>\nsoup\n==<Element parse at 0x8835608>\nsoup\n==<Element parse at 0x8839a48>\nsoup\n==<Element parse at 0x8839948>\nsoup\n==<Element parse at 0x8835ec8>\nsoup\n==<Element parse at 0x8835488>\nsoup\n==<Element parse at 0x88358c8>\nsoup\n==<Element parse at 0x8835d48>\nsoup\n==<Element parse at 0x8835608>\nsoup\n==<Element parse at 0x8839a48>\nsoup\n==<Element parse at 0x8839948>\nsoup\n==<Element parse at 0x8835ec8>\nsoup\n==<Element parse at 0x8835488>\nsoup\n==<Element parse at 0x88358c8>\nsoup\n==<Element parse at 0x8835d48>\nsoup\n==<Element parse at 0x8835608>\nsoup\n==<Element parse at 0x8839a48>\nsoup\n==<Element parse at 0x8839948>\nsoup\n==<Element parse at 0x8835ec8>\nsoup\n==<Element parse at 0x8835488>\nsoup\n==<Element parse at 0x88358c8>\nsoup\n==<Element parse at 0x8835d48>\nsoup\n==<Element parse at 0x8835608>\nsoup\n==<Element parse at 0x8839a48>\nsoup\n==<Element parse at 0x8839948>\nsoup\n==<Element parse at 0x8835ec8>\nsoup\n==<Element parse at 0x8835488>\nsoup\n==<Element parse at 0x88358c8>\nsoup\n==<Element parse at 0x8835d48>\nsoup\n==<Element parse at 0x8835608>\nsoup\n==<Element parse at 0x8839a48>\nsoup\n==<Element parse at 0x8839948>\nsoup\n"
     ]
    }
   ],
   "source": [
    "from xml.sax.saxutils import escape\n",
    "\n",
    "rule = '''\n",
    "<root>\n",
    "    <parse type='re' restr=\"%s\" nodetype='main' filter='domid=Pl_Official_MyProfileFeed'>\n",
    "        <parse type='json' jsonpath='html' nodetype='main'>\n",
    "            <parse type='soup' cssselector='div[action-type=\"feed_list_item\"]' nodetype='main'>\n",
    "                <parse type='soup' cssselector='div:nth-of-type(1)' name=\"mid\" value='mid'  nodetype='leaf'/>\n",
    "                <parse type='soup' cssselector='div[node-type=\"feed_list_content\"]' name=\"content\"  nodetype='leaf'/>\n",
    "                <parse type='soup' cssselector='span[node-type=\"forward_btn_text\"] > span > em:nth-of-type(2)' name=\"reposts_count\" nodetype='leaf'/>\n",
    "                <parse type='soup' cssselector='span[node-type=\"comment_btn_text\"] > span > em:nth-of-type(2)' name=\"comments_count\" nodetype='leaf'/>\n",
    "                <parse type='soup' cssselector='span[node-type=\"like_status\"] > span > em:nth-of-type(2)' name=\"attitudes_count\" nodetype='leaf'/>\n",
    "                <parse type='soup' cssselector='a[node-type=\"feed_list_item_date\"]' value='title' name=\"date\" nodetype='leaf'/>\n",
    "                <parse type='soup' cssselector='.WB_from a' value='href' name=\"feed_url\" nodetype='leaf'/>\n",
    "            </parse>\n",
    "        </parse>\n",
    "    </parse>\n",
    "    <parse type='re' restr=\"%s\" nodetype='attach' filter='domid=Pl_Core_T8CustomTriColumn__3'>\n",
    "        <parse type='json' jsonpath='html' nodetype='attach'>\n",
    "            <parse type='soup' cssselector='strong:nth-of-type(1)' name=\"friends_count\" nodetype='attach'/>\n",
    "            <parse type='soup' cssselector='strong:nth-of-type(2)' name=\"followers_count\" nodetype='attach'/>\n",
    "            <parse type='soup' cssselector='strong:nth-of-type(3)' name=\"statuses_count\" nodetype='attach'/>\n",
    "        </parse>\n",
    "    </parse>\n",
    "    <parse type='re' restr=\"%s\" nodetype='attach' filter='domid=Pl_Official_Headerv6__1'>\n",
    "        <parse type='json' jsonpath='html' nodetype='attach'>\n",
    "            <parse type='soup' cssselector='img:nth-of-type(1)' name=\"profile_image_url\" value='src'  nodetype='leaf'/>\n",
    "            <parse type='soup' cssselector='a[action-type=\"webim.conversation\"]' value='action-data' name=\"uid_nick\" nodetype='attach'/>\n",
    "            <parse type='soup' cssselector='i.icon_pf_male' name=\"male\" nodetype='attach'/>\n",
    "            <parse type='soup' cssselector='i.icon_pf_female' name=\"female\" defaultvalue='1' nodetype='attach'/>\n",
    "        </parse>\n",
    "    </parse>\n",
    "</root>\n",
    "''' % (escape(\"<script>FM.view\\((.+?)\\)</script>\"), escape(\"<script>FM.view\\((.+?)\\)</script>\"), escape(\"<script>FM.view\\((.+?)\\)</script>\"))\n",
    "rule = rule.replace(\"\\n\", \"\")\n",
    "doc_rule_data = AutoCrawler(request).extract(html, rule, {\"account\": 1111111})\n",
    "items = [data for _, _, data in doc_rule_data]"
   ]
  },
  {
   "cell_type": "code",
   "execution_count": 7,
   "metadata": {},
   "outputs": [
    {
     "name": "stdout",
     "output_type": "stream",
     "text": [
      "2.0\n"
     ]
    }
   ],
   "source": [
    "import math\n",
    "\n",
    "func = eval('math.sqrt')\n",
    "print(func(4))"
   ]
  },
  {
   "cell_type": "code",
   "execution_count": 7,
   "metadata": {},
   "outputs": [
    {
     "name": "stdout",
     "output_type": "stream",
     "text": [
      "2.0\n"
     ]
    }
   ],
   "source": [
    "import math\n",
    "\n",
    "func = eval('math.sqrt')\n",
    "print(func(4))"
   ]
  },
  {
   "cell_type": "code",
   "execution_count": 62,
   "metadata": {},
   "outputs": [
    {
     "name": "stdout",
     "output_type": "stream",
     "text": [
      "{'_optcre': <_sre.SRE_Pattern object at 0x0000000003A2D7D8>, '_defaults': OrderedDict(), '_sections': OrderedDict([('weibo', OrderedDict([('__name__', 'weibo'), ('username', 'changshanzhendingzhaozilong@gmail.com'), ('password', '7faa3494c2cd14b3eccb512af9f783ae')])), ('qq', OrderedDict([('__name__', 'qq'), ('username', 'changshanzhendingzhaozilong@gmail.com'), ('password', '3fd722a014d3ef7f774dca3e0f545860')])), ('mongo', OrderedDict([('__name__', 'mongo'), ('host', 'mongodb://10.40.100.16:27017/'), ('dbname', 'test')])), ('hbase', OrderedDict([('__name__', 'hbase'), ('host', '10.40.100.16'), ('table', 'test')]))]), '_dict': <class 'collections.OrderedDict'>}\n[('host', 'mongodb://10.40.100.16:27017/'), ('dbname', 'test')]\n"
     ]
    }
   ],
   "source": [
    "import ConfigParser\n",
    "import json\n",
    "from pymongo.errors import BulkWriteError\n",
    "\n",
    "class MongoSaver(object):\n",
    "    \"\"\"\n",
    "    MongoDB专用存储器\n",
    "    \"\"\"\n",
    "\n",
    "    def __init__(self):\n",
    "        super(MongoSaver, self).__init__()\n",
    "        from pymongo import MongoClient\n",
    "        config = ConfigParser.ConfigParser()\n",
    "        config.read(\"F:\\gitlab\\mola\\house\\cje\\data_saver.conf\")\n",
    "        print(config.__dict__)\n",
    "        print(config.items(\"mongo\"))\n",
    "        mongo_host = config.get(\"mongo\", \"host\")\n",
    "        mongo_dbname = config.get(\"mongo\", \"dbname\")\n",
    "\n",
    "        self.client = MongoClient(mongo_host)\n",
    "        self.db = self.client.get_database(mongo_dbname)\n",
    "\n",
    "    def save(self, table='test', items=None):\n",
    "        \"\"\"\n",
    "        向集合存储批量数据\n",
    "        :param table: 对应mongodb的collection\n",
    "        :param items: 待插入的数据\n",
    "        \"\"\"\n",
    "        if items is None:\n",
    "            items = []\n",
    "        # if items and items[0].get('uid'):\n",
    "        #     items = [dict(item, **{\"_id\": item['uid']}) for item in items]\n",
    "        try:\n",
    "            self.db[table].insert_many(items)\n",
    "        except BulkWriteError as bwe:\n",
    "            print(bwe.details)\n",
    "            # you can also take this component and do more analysis\n",
    "            write_errors = bwe.details['writeErrors']\n",
    "            print(write_errors)\n",
    "            pass\n",
    "\n",
    "\n",
    "\n",
    "data_saver = MongoSaver()\n",
    "data_saver.save(items=done_items)\n",
    "# for _, _, data in doc_rule_data:\n",
    "#     print(\"---- %s \" % data)"
   ]
  },
  {
   "cell_type": "code",
   "execution_count": 9,
   "metadata": {},
   "outputs": [],
   "source": [
    ""
   ]
  },
  {
   "cell_type": "code",
   "execution_count": 87,
   "metadata": {},
   "outputs": [
    {
     "name": "stdout",
     "output_type": "stream",
     "text": [
      "15\n"
     ]
    },
    {
     "data": {
      "text/plain": [
       "[{'account': 1111111,\n  'comments_count_int_or_zero': 21,\n  'content': None,\n  'date': '2016-11-12 21:10',\n  'feed_url': 'http://weibo.com/p/1008080d055beb31fd94ce0399a1981d82afc5?k=BLACKPINK&from=feed_card',\n  'female': '1',\n  'followers_count': 9089,\n  'followers_count_ln': 9.11482017011877,\n  'friends_count': 34.0,\n  'friends_count_sqrt': 5.830951894845301,\n  'mid': '4041104175715421',\n  'nick': u'ROSE\\u5427\\u5b98\\u535a',\n  'profile_image_url': 'http://tva4.sinaimg.cn/crop.0.0.512.512.180/0067Crgwjw8f91xwrgvwoj30e80e8jrh.jpg',\n  'reposts_count_int_or_zero': 47,\n  'statuses_count': 1314.0,\n  'statuses_count_ln': 7.1808311990445555,\n  'statuses_count_log': 7.1808311990445555,\n  'uid': u'5609392620'},\n {'account': 1111111,\n  'comments_count_int_or_zero': 8,\n  'content': None,\n  'date': '2016-11-12 14:39',\n  'feed_url': 'http://vip.weibo.com/prividesc?priv=1006&from=feed',\n  'female': '1',\n  'followers_count': 9089,\n  'followers_count_ln': 9.11482017011877,\n  'friends_count': 34.0,\n  'friends_count_sqrt': 5.830951894845301,\n  'mid': '4040999221028920',\n  'nick': u'ROSE\\u5427\\u5b98\\u535a',\n  'profile_image_url': 'http://tva4.sinaimg.cn/crop.0.0.512.512.180/0067Crgwjw8f91xwrgvwoj30e80e8jrh.jpg',\n  'reposts_count_int_or_zero': 27,\n  'statuses_count': 1314.0,\n  'statuses_count_ln': 7.1808311990445555,\n  'statuses_count_log': 7.1808311990445555,\n  'uid': u'5609392620'},\n {'account': 1111111,\n  'comments_count_int_or_zero': 23,\n  'content': None,\n  'date': '2016-11-09 21:13',\n  'feed_url': 'http://vip.weibo.com/prividesc?priv=1006&from=feed',\n  'female': '1',\n  'followers_count': 9089,\n  'followers_count_ln': 9.11482017011877,\n  'friends_count': 34.0,\n  'friends_count_sqrt': 5.830951894845301,\n  'mid': '4040011152707078',\n  'nick': u'ROSE\\u5427\\u5b98\\u535a',\n  'profile_image_url': 'http://tva4.sinaimg.cn/crop.0.0.512.512.180/0067Crgwjw8f91xwrgvwoj30e80e8jrh.jpg',\n  'reposts_count_int_or_zero': 35,\n  'statuses_count': 1314.0,\n  'statuses_count_ln': 7.1808311990445555,\n  'statuses_count_log': 7.1808311990445555,\n  'uid': u'5609392620'},\n {'account': 1111111,\n  'comments_count_int_or_zero': 10,\n  'content': None,\n  'date': '2016-11-14 20:39',\n  'feed_url': 'http://vip.weibo.com/prividesc?priv=1006&from=feed',\n  'female': '1',\n  'followers_count': 9089,\n  'followers_count_ln': 9.11482017011877,\n  'friends_count': 34.0,\n  'friends_count_sqrt': 5.830951894845301,\n  'mid': '4041814724009600',\n  'nick': u'ROSE\\u5427\\u5b98\\u535a',\n  'profile_image_url': 'http://tva4.sinaimg.cn/crop.0.0.512.512.180/0067Crgwjw8f91xwrgvwoj30e80e8jrh.jpg',\n  'reposts_count_int_or_zero': 51,\n  'statuses_count': 1314.0,\n  'statuses_count_ln': 7.1808311990445555,\n  'statuses_count_log': 7.1808311990445555,\n  'uid': u'5609392620'},\n {'account': 1111111,\n  'comments_count_int_or_zero': 14,\n  'content': None,\n  'date': '2016-11-11 00:50',\n  'feed_url': 'http://vip.weibo.com/prividesc?priv=1006&from=feed',\n  'female': '1',\n  'followers_count': 9089,\n  'followers_count_ln': 9.11482017011877,\n  'friends_count': 34.0,\n  'friends_count_sqrt': 5.830951894845301,\n  'mid': '4040428305387539',\n  'nick': u'ROSE\\u5427\\u5b98\\u535a',\n  'profile_image_url': 'http://tva4.sinaimg.cn/crop.0.0.512.512.180/0067Crgwjw8f91xwrgvwoj30e80e8jrh.jpg',\n  'reposts_count_int_or_zero': 24,\n  'statuses_count': 1314.0,\n  'statuses_count_ln': 7.1808311990445555,\n  'statuses_count_log': 7.1808311990445555,\n  'uid': u'5609392620'},\n {'account': 1111111,\n  'comments_count_int_or_zero': 20,\n  'content': None,\n  'date': '2016-11-09 18:39',\n  'feed_url': 'http://vip.weibo.com/prividesc?priv=1006&from=feed',\n  'female': '1',\n  'followers_count': 9089,\n  'followers_count_ln': 9.11482017011877,\n  'friends_count': 34.0,\n  'friends_count_sqrt': 5.830951894845301,\n  'mid': '4039972590439930',\n  'nick': u'ROSE\\u5427\\u5b98\\u535a',\n  'profile_image_url': 'http://tva4.sinaimg.cn/crop.0.0.512.512.180/0067Crgwjw8f91xwrgvwoj30e80e8jrh.jpg',\n  'reposts_count_int_or_zero': 21,\n  'statuses_count': 1314.0,\n  'statuses_count_ln': 7.1808311990445555,\n  'statuses_count_log': 7.1808311990445555,\n  'uid': u'5609392620'},\n {'account': 1111111,\n  'comments_count_int_or_zero': 13,\n  'content': None,\n  'date': '2016-11-10 20:09',\n  'feed_url': 'http://vip.weibo.com/prividesc?priv=1006&from=feed',\n  'female': '1',\n  'followers_count': 9089,\n  'followers_count_ln': 9.11482017011877,\n  'friends_count': 34.0,\n  'friends_count_sqrt': 5.830951894845301,\n  'mid': '4040357677072641',\n  'nick': u'ROSE\\u5427\\u5b98\\u535a',\n  'profile_image_url': 'http://tva4.sinaimg.cn/crop.0.0.512.512.180/0067Crgwjw8f91xwrgvwoj30e80e8jrh.jpg',\n  'reposts_count_int_or_zero': 26,\n  'statuses_count': 1314.0,\n  'statuses_count_ln': 7.1808311990445555,\n  'statuses_count_log': 7.1808311990445555,\n  'uid': u'5609392620'},\n {'account': 1111111,\n  'comments_count_int_or_zero': 0,\n  'content': None,\n  'date': '2016-11-13 03:32',\n  'feed_url': 'http://vip.weibo.com/prividesc?priv=1006&from=feed',\n  'female': '1',\n  'followers_count': 9089,\n  'followers_count_ln': 9.11482017011877,\n  'friends_count': 34.0,\n  'friends_count_sqrt': 5.830951894845301,\n  'mid': '4041264380845809',\n  'nick': u'ROSE\\u5427\\u5b98\\u535a',\n  'profile_image_url': 'http://tva4.sinaimg.cn/crop.0.0.512.512.180/0067Crgwjw8f91xwrgvwoj30e80e8jrh.jpg',\n  'reposts_count_int_or_zero': 29,\n  'statuses_count': 1314.0,\n  'statuses_count_ln': 7.1808311990445555,\n  'statuses_count_log': 7.1808311990445555,\n  'uid': u'5609392620'},\n {'account': 1111111,\n  'comments_count_int_or_zero': 13,\n  'content': None,\n  'date': '2016-11-13 12:03',\n  'feed_url': 'http://vip.weibo.com/prividesc?priv=1006&from=feed',\n  'female': '1',\n  'followers_count': 9089,\n  'followers_count_ln': 9.11482017011877,\n  'friends_count': 34.0,\n  'friends_count_sqrt': 5.830951894845301,\n  'mid': '4041322439088566',\n  'nick': u'ROSE\\u5427\\u5b98\\u535a',\n  'profile_image_url': 'http://tva4.sinaimg.cn/crop.0.0.512.512.180/0067Crgwjw8f91xwrgvwoj30e80e8jrh.jpg',\n  'reposts_count_int_or_zero': 12,\n  'statuses_count': 1314.0,\n  'statuses_count_ln': 7.1808311990445555,\n  'statuses_count_log': 7.1808311990445555,\n  'uid': u'5609392620'},\n {'account': 1111111,\n  'comments_count_int_or_zero': 11,\n  'content': None,\n  'date': '2016-11-10 23:40',\n  'feed_url': 'http://vip.weibo.com/prividesc?priv=1006&from=feed',\n  'female': '1',\n  'followers_count': 9089,\n  'followers_count_ln': 9.11482017011877,\n  'friends_count': 34.0,\n  'friends_count_sqrt': 5.830951894845301,\n  'mid': '4040410752251565',\n  'nick': u'ROSE\\u5427\\u5b98\\u535a',\n  'profile_image_url': 'http://tva4.sinaimg.cn/crop.0.0.512.512.180/0067Crgwjw8f91xwrgvwoj30e80e8jrh.jpg',\n  'reposts_count_int_or_zero': 18,\n  'statuses_count': 1314.0,\n  'statuses_count_ln': 7.1808311990445555,\n  'statuses_count_log': 7.1808311990445555,\n  'uid': u'5609392620'},\n {'account': 1111111,\n  'comments_count_int_or_zero': 2,\n  'content': None,\n  'date': '2016-11-13 15:14',\n  'feed_url': 'http://vip.weibo.com/prividesc?priv=1006&from=feed',\n  'female': '1',\n  'followers_count': 9089,\n  'followers_count_ln': 9.11482017011877,\n  'friends_count': 34.0,\n  'friends_count_sqrt': 5.830951894845301,\n  'mid': '4041370538580338',\n  'nick': u'ROSE\\u5427\\u5b98\\u535a',\n  'profile_image_url': 'http://tva4.sinaimg.cn/crop.0.0.512.512.180/0067Crgwjw8f91xwrgvwoj30e80e8jrh.jpg',\n  'reposts_count_int_or_zero': 19,\n  'statuses_count': 1314.0,\n  'statuses_count_ln': 7.1808311990445555,\n  'statuses_count_log': 7.1808311990445555,\n  'uid': u'5609392620'},\n {'account': 1111111,\n  'comments_count_int_or_zero': 8,\n  'content': None,\n  'date': '2016-11-14 12:36',\n  'feed_url': 'http://vip.weibo.com/prividesc?priv=1006&from=feed',\n  'female': '1',\n  'followers_count': 9089,\n  'followers_count_ln': 9.11482017011877,\n  'friends_count': 34.0,\n  'friends_count_sqrt': 5.830951894845301,\n  'mid': '4041693185860537',\n  'nick': u'ROSE\\u5427\\u5b98\\u535a',\n  'profile_image_url': 'http://tva4.sinaimg.cn/crop.0.0.512.512.180/0067Crgwjw8f91xwrgvwoj30e80e8jrh.jpg',\n  'reposts_count_int_or_zero': 17,\n  'statuses_count': 1314.0,\n  'statuses_count_ln': 7.1808311990445555,\n  'statuses_count_log': 7.1808311990445555,\n  'uid': u'5609392620'},\n {'account': 1111111,\n  'comments_count_int_or_zero': 12,\n  'content': None,\n  'date': '2016-11-15 00:01',\n  'feed_url': 'http://vip.weibo.com/prividesc?priv=1006&from=feed',\n  'female': '1',\n  'followers_count': 9089,\n  'followers_count_ln': 9.11482017011877,\n  'friends_count': 34.0,\n  'friends_count_sqrt': 5.830951894845301,\n  'mid': '4041865483854937',\n  'nick': u'ROSE\\u5427\\u5b98\\u535a',\n  'profile_image_url': 'http://tva4.sinaimg.cn/crop.0.0.512.512.180/0067Crgwjw8f91xwrgvwoj30e80e8jrh.jpg',\n  'reposts_count_int_or_zero': 3,\n  'statuses_count': 1314.0,\n  'statuses_count_ln': 7.1808311990445555,\n  'statuses_count_log': 7.1808311990445555,\n  'uid': u'5609392620'},\n {'account': 1111111,\n  'comments_count_int_or_zero': 10,\n  'content': None,\n  'date': '2016-11-13 19:17',\n  'feed_url': 'http://vip.weibo.com/prividesc?priv=1006&from=feed',\n  'female': '1',\n  'followers_count': 9089,\n  'followers_count_ln': 9.11482017011877,\n  'friends_count': 34.0,\n  'friends_count_sqrt': 5.830951894845301,\n  'mid': '4041431720731114',\n  'nick': u'ROSE\\u5427\\u5b98\\u535a',\n  'profile_image_url': 'http://tva4.sinaimg.cn/crop.0.0.512.512.180/0067Crgwjw8f91xwrgvwoj30e80e8jrh.jpg',\n  'reposts_count_int_or_zero': 6,\n  'statuses_count': 1314.0,\n  'statuses_count_ln': 7.1808311990445555,\n  'statuses_count_log': 7.1808311990445555,\n  'uid': u'5609392620'},\n {'account': 1111111,\n  'comments_count_int_or_zero': 7,\n  'content': None,\n  'date': '2016-11-09 10:14',\n  'feed_url': 'http://vip.weibo.com/prividesc?priv=1006&from=feed',\n  'female': '1',\n  'followers_count': 9089,\n  'followers_count_ln': 9.11482017011877,\n  'friends_count': 34.0,\n  'friends_count_sqrt': 5.830951894845301,\n  'mid': '4039845494335325',\n  'nick': u'ROSE\\u5427\\u5b98\\u535a',\n  'profile_image_url': 'http://tva4.sinaimg.cn/crop.0.0.512.512.180/0067Crgwjw8f91xwrgvwoj30e80e8jrh.jpg',\n  'reposts_count_int_or_zero': 10,\n  'statuses_count': 1314.0,\n  'statuses_count_ln': 7.1808311990445555,\n  'statuses_count_log': 7.1808311990445555,\n  'uid': u'5609392620'}]"
      ]
     },
     "execution_count": 87,
     "metadata": {},
     "output_type": "execute_result"
    }
   ],
   "source": [
    "def del_mongodb_id(record):\n",
    "    if type(record) == dict and '_id' in record:\n",
    "        del record['_id']\n",
    "    return record\n",
    "\n",
    "\n",
    "def del_field(record, field_name):\n",
    "    if type(record) == dict and field_name in record:\n",
    "        del record[field_name]\n",
    "    return record\n",
    "\n",
    "\n",
    "def trans_and_add(item, func):\n",
    "    trans = func(item)\n",
    "    item = dict(item, **trans)  # 合并\n",
    "    return item\n",
    "\n",
    "\n",
    "def trans_to_json_array(meta, tuple_list):\n",
    "    items = []\n",
    "    for tuple_data in tuple_list:\n",
    "        item = trans_to_json(meta, tuple_data)\n",
    "        items.append(item)\n",
    "    return items\n",
    "\n",
    "\n",
    "def trans_to_json(meta, tuple_data):\n",
    "    item = {}\n",
    "    for key in meta:\n",
    "        index = meta.index(key)\n",
    "        value = tuple_data[index]\n",
    "        item[key] = value\n",
    "    return item\n",
    "\n",
    "\n",
    "def uid_nick(item):\n",
    "    uid_kv, nick_kv = item['uid_nick'].split(\"&\")\n",
    "    _, uid = uid_kv.split(\"=\")\n",
    "    _, nick = nick_kv.split(\"=\")\n",
    "    return {\"uid\": uid, \"nick\": nick}\n",
    "\n",
    "\n",
    "def trans_field(item, field_name, func):\n",
    "    field_value = item.get(field_name)\n",
    "    item[field_name] = func(field_value)\n",
    "    return item\n",
    "\n",
    "\n",
    "def add_math_field(item, field_name, func):\n",
    "    field_value = float(item.get(field_name))\n",
    "    math_field_name = \"%s_%s\" % (field_name, func.__name__)\n",
    "    item[field_name] = field_value\n",
    "    item[math_field_name] = func(field_value)\n",
    "    return item\n",
    "\n",
    "\n",
    "def add_custom_field(item, field_name, func):\n",
    "    field_value = item.get(field_name)\n",
    "    custom_field_name = \"%s_%s\" % (field_name, func.__name__)\n",
    "    item[custom_field_name] = func(field_value)\n",
    "    return item\n",
    "\n",
    "\n",
    "def ln(x):\n",
    "    return math.log(x)\n",
    "\n",
    "\n",
    "def int_or_zero(src):\n",
    "    src = src.replace(\"\\n\", \"\").strip()\n",
    "    try:\n",
    "        dist = int(src)\n",
    "    except:\n",
    "        dist = 0\n",
    "    return dist\n",
    "\n",
    "op_rule = '''\n",
    "<root>\n",
    "    <trans ops='add_uid_nick|del_uid_nick|type_followers_count_int|math_friends_count_sqrt|math_statuses_count_log|custom__followers_count__ln\n",
    "    |custom__statuses_count__ln|custom__comments_count__int_or_zero|del_comments_count|custom__reposts_count__int_or_zero|del_reposts_count' />\n",
    "</root>\n",
    "'''\n",
    "\n",
    "root = etree.XML(op_rule)\n",
    "ops = [op.strip() for op in child.get('ops').split('|') for child in root if child.tag == 'trans']\n",
    "# ops = ['do_uid_nick']\n",
    "# ops = ['add_uid_nick', 'del_uid_nick', 'type_followers_count_int', \n",
    "#        'math_friends_count_sqrt', 'math_statuses_count_log',\n",
    "#        'custom__followers_count__ln', 'custom__statuses_count__ln', \n",
    "#        'custom__comments_count__int_or_zero', 'del_comments_count',\n",
    "#        'custom__reposts_count__int_or_zero', 'del_reposts_count']\n",
    "done_items = [item for item in items]\n",
    "\n",
    "\n",
    "def do_ops_to_item(item, ops):\n",
    "    \"\"\"\n",
    "    集中式数据变换：依次进行\n",
    "    :param item: 待变换的item\n",
    "    :param ops: 操作集合\n",
    "    :return: 变换后的item\n",
    "    \"\"\"\n",
    "    done_item = item\n",
    "    for op in ops:\n",
    "        # print(op)\n",
    "        if op.startswith('add_'):\n",
    "            func = eval(op.replace(\"add_\", ''))\n",
    "            done_item = trans_and_add(done_item, func)\n",
    "        if op.startswith('del_'):\n",
    "            field_name = op.replace(\"del_\", '')\n",
    "            done_item = del_field(done_item, field_name)\n",
    "        if op.startswith('do_'):\n",
    "            func = eval(op.replace(\"do_\", ''))\n",
    "            done_item = func(done_item)\n",
    "        if op.startswith('type_'):\n",
    "            field_name = '_'.join(op.split('_')[1:-1])\n",
    "            func = eval(op.split('_')[-1])\n",
    "            done_item = trans_field(done_item, field_name, func)\n",
    "        if op.startswith('math_'):\n",
    "            field_name = '_'.join(op.split('_')[1:-1])\n",
    "            func = eval(\"math.\" + op.split('_')[-1])\n",
    "            done_item = add_math_field(done_item, field_name, func)\n",
    "        if op.startswith('custom__'):\n",
    "            field_name = op.split('__')[1]\n",
    "            func = eval(op.split('__')[-1])\n",
    "            done_item = add_custom_field(done_item, field_name, func)\n",
    "    return done_item\n",
    "\n",
    "done_items = [do_ops_to_item(item, ops) for item in done_items]\n",
    "\n",
    "# for op in ops:\n",
    "#     if op.startswith('add_'):\n",
    "#         func = eval(op.replace(\"add_\", ''))\n",
    "#         done_items = [trans_and_add(item, uid_nick) for item in done_items]\n",
    "#     if op.startswith('del_'):\n",
    "#         field_name = op.replace(\"del_\", '')\n",
    "#         done_items = [del_field(item, field_name) for item in done_items]\n",
    "#     if op.startswith('do_'):\n",
    "#         func = eval(op.replace(\"do_\", ''))\n",
    "#         done_items = [func(item) for item in done_items]\n",
    "#     if op.startswith('type_'):\n",
    "#         field_name = '_'.join(op.split('_')[1:-1])\n",
    "#         func = eval(op.split('_')[-1])\n",
    "#         done_items = [trans_field(item, field_name, func) for item in done_items]\n",
    "#     if op.startswith('math_'):\n",
    "#         field_name = '_'.join(op.split('_')[1:-1])\n",
    "#         func = eval(\"math.\" + op.split('_')[-1])\n",
    "#         done_items = [add_math_field(item, field_name, func) for item in done_items]\n",
    "print(len(done_items))\n",
    "done_items"
   ]
  },
  {
   "cell_type": "code",
   "execution_count": 7,
   "metadata": {},
   "outputs": [
    {
     "name": "stdout",
     "output_type": "stream",
     "text": [
      "2.0\n"
     ]
    }
   ],
   "source": [
    "import math\n",
    "\n",
    "func = eval('math.sqrt')\n",
    "print(func(4))"
   ]
  },
  {
   "cell_type": "code",
   "execution_count": 9,
   "metadata": {},
   "outputs": [],
   "source": [
    ""
   ]
  },
  {
   "cell_type": "code",
   "execution_count": 84,
   "metadata": {},
   "outputs": [
    {
     "name": "stdout",
     "output_type": "stream",
     "text": [
      "['add_uid_nick', 'del_uid_nick', 'type_followers_count_int', 'math_friends_count_sqrt', 'math_statuses_count_log', 'custom__followers_count__ln', 'custom__statuses_count__ln', 'custom__comments_count__int_or_zero', 'del_comments_count', 'custom__reposts_count__int_or_zero', 'del_reposts_count']\nadd_uid_nick | del_uid_nick | type_followers_count_int | math_friends_count_sqrt | math_statuses_count_log | custom__followers_count__ln | custom__statuses_count__ln | custom__comments_count__int_or_zero | del_comments_count | custom__reposts_count__int_or_zero | del_reposts_count\n|\n"
     ]
    }
   ],
   "source": [
    "from __future__ import print_function\n",
    "\n",
    "op_rule = '''\n",
    "<root>\n",
    "    <trans ops='add_uid_nick|del_uid_nick|type_followers_count_int|math_friends_count_sqrt|math_statuses_count_log|custom__followers_count__ln\n",
    "    |custom__statuses_count__ln|custom__comments_count__int_or_zero|del_comments_count|custom__reposts_count__int_or_zero|del_reposts_count' />\n",
    "</root>\n",
    "'''\n",
    "\n",
    "root = etree.XML(op_rule)\n",
    "targets = [op.strip() for op in child.get('ops').split('|') for child in root]\n",
    "print(targets)\n",
    "# ops = ['do_uid_nick']\n",
    "ops = ['add_uid_nick', 'del_uid_nick', 'type_followers_count_int', 'math_friends_count_sqrt', 'math_statuses_count_log',\n",
    "       'custom__followers_count__ln', 'custom__statuses_count__ln', 'custom__comments_count__int_or_zero', 'del_comments_count',\n",
    "       'custom__reposts_count__int_or_zero', 'del_reposts_count']\n",
    "print(\" | \".join(ops))\n",
    "print('\\n|'.strip())"
   ]
  },
  {
   "cell_type": "code",
   "execution_count": 38,
   "metadata": {},
   "outputs": [
    {
     "name": "stdout",
     "output_type": "stream",
     "text": [
      "True\n"
     ]
    }
   ],
   "source": [
    "print(\"Pl_Official_MyProfileFeed\" in \"Pl_Official_MyProfileFeed_22\")"
   ]
  },
  {
   "cell_type": "code",
   "execution_count": 9,
   "metadata": {},
   "outputs": [
    {
     "name": "stdout",
     "output_type": "stream",
     "text": [
      "1\n1\n1\n1\n1\n1\n1\n1\n1\n1\n"
     ]
    }
   ],
   "source": [
    "def a():\n",
    "    yield 1\n",
    "\n",
    "\n",
    "def b():\n",
    "    for i in range(10):\n",
    "        for sa in a():\n",
    "            yield sa\n",
    "\n",
    "for sb in b():\n",
    "    print(sb)"
   ]
  }
 ],
 "metadata": {
  "kernelspec": {
   "display_name": "Python 2",
   "language": "python",
   "name": "python2"
  },
  "language_info": {
   "codemirror_mode": {
    "name": "ipython",
    "version": 2.0
   },
   "file_extension": ".py",
   "mimetype": "text/x-python",
   "name": "python",
   "nbconvert_exporter": "python",
   "pygments_lexer": "ipython2",
   "version": "2.7.6"
  }
 },
 "nbformat": 4,
 "nbformat_minor": 0
}